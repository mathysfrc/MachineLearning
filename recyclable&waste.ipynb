{
 "cells": [
  {
   "cell_type": "code",
   "id": "initial_id",
   "metadata": {
    "collapsed": true,
    "ExecuteTime": {
     "end_time": "2025-05-30T14:57:41.492251Z",
     "start_time": "2025-05-30T14:57:41.423139Z"
    }
   },
   "source": [
    "import os\n",
    "import numpy as np\n",
    "import pandas as pd\n",
    "import matplotlib.pyplot as plt\n",
    "import tensorflow as tf\n",
    "from tensorflow.keras.preprocessing.image import ImageDataGenerator\n",
    "from tensorflow.keras.models import Sequential\n",
    "from tensorflow.keras.layers import Conv2D, MaxPooling2D, Flatten, Dense, Dropout, GlobalAveragePooling2D, Input\n",
    "from tensorflow.keras.callbacks import EarlyStopping, ReduceLROnPlateau\n",
    "from tensorflow.keras.applications import MobileNetV2, ResNet50V2\n",
    "from tensorflow.keras.applications.mobilenet_v2 import preprocess_input as preprocess_mobilenet\n",
    "from tensorflow.keras.applications.resnet_v2 import preprocess_input as preprocess_resnet\n",
    "from sklearn.metrics import confusion_matrix, ConfusionMatrixDisplay\n",
    "from PIL import Image\n",
    "import time\n",
    "\n",
    "# Fixer la graine pour reproductibilité\n",
    "tf.random.set_seed(42)\n",
    "np.random.seed(42)"
   ],
   "outputs": [],
   "execution_count": 8
  },
  {
   "metadata": {},
   "cell_type": "markdown",
   "source": [
    "# 1. Recherche, Sélection et Préparation du Jeu de Données\n",
    "\n",
    "Jeu de Données : Dataset Recyclable and Household Waste\n",
    "Justification :\n",
    "- Pertinence : La classification des déchets (plastique, papier, verre, etc.) est un problème concret avec un impact environnemental (recyclage).\n",
    "- Qualité : Contient environ 15,000 images réelles, équilibrées entre classes, avec des variations naturelles.\n",
    "- Licence : Ouverte pour un usage éducatif.\n",
    "Instructions : Téléchargez depuis Kaggle, décompressez dans './waste_dataset/images/images'.\n"
   ],
   "id": "39438d3327216663"
  },
  {
   "metadata": {
    "ExecuteTime": {
     "end_time": "2025-05-30T14:58:14.800358Z",
     "start_time": "2025-05-30T14:58:14.786335Z"
    }
   },
   "cell_type": "code",
   "source": [
    "DATASET_PATH = './waste_dataset/images/images'\n",
    "IMG_SIZE = (160, 160)  # Compatible avec MobileNetV2/ResNet50V2, réduit la complexité\n",
    "BATCH_SIZE = 32\n",
    "\n",
    "# Détection des classes\n",
    "def get_classes():\n",
    "    classes = [d for d in os.listdir(DATASET_PATH) if os.path.isdir(os.path.join(DATASET_PATH, d))]\n",
    "    print(f\"Found {len(classes)} classes: {classes}\")\n",
    "    return classes\n",
    "\n",
    "CLASSES = get_classes()\n",
    "NUM_CLASSES = len(CLASSES)\n",
    "\n",
    "# Inspection des données\n",
    "def inspect_dataset():\n",
    "    for category in CLASSES:\n",
    "        category_path = os.path.join(DATASET_PATH, category)\n",
    "        num_images = len([f for f in os.listdir(category_path) if os.path.isfile(os.path.join(category_path, f))])\n",
    "        print(f'Found {num_images} images in {category}')\n",
    "inspect_dataset()"
   ],
   "id": "39fff0d46948f1cd",
   "outputs": [
    {
     "name": "stdout",
     "output_type": "stream",
     "text": [
      "Found 30 classes: ['aerosol_cans', 'aluminum_food_cans', 'aluminum_soda_cans', 'cardboard_boxes', 'cardboard_packaging', 'clothing', 'coffee_grounds', 'disposable_plastic_cutlery', 'eggshells', 'food_waste', 'glass_beverage_bottles', 'glass_cosmetic_containers', 'glass_food_jars', 'magazines', 'newspaper', 'office_paper', 'paper_cups', 'plastic_cup_lids', 'plastic_detergent_bottles', 'plastic_food_containers', 'plastic_shopping_bags', 'plastic_soda_bottles', 'plastic_straws', 'plastic_trash_bags', 'plastic_water_bottles', 'shoes', 'steel_food_cans', 'styrofoam_cups', 'styrofoam_food_containers', 'tea_bags']\n",
      "Found 0 images in aerosol_cans\n",
      "Found 0 images in aluminum_food_cans\n",
      "Found 0 images in aluminum_soda_cans\n",
      "Found 0 images in cardboard_boxes\n",
      "Found 0 images in cardboard_packaging\n",
      "Found 0 images in clothing\n",
      "Found 0 images in coffee_grounds\n",
      "Found 0 images in disposable_plastic_cutlery\n",
      "Found 0 images in eggshells\n",
      "Found 0 images in food_waste\n",
      "Found 0 images in glass_beverage_bottles\n",
      "Found 0 images in glass_cosmetic_containers\n",
      "Found 0 images in glass_food_jars\n",
      "Found 0 images in magazines\n",
      "Found 0 images in newspaper\n",
      "Found 0 images in office_paper\n",
      "Found 0 images in paper_cups\n",
      "Found 0 images in plastic_cup_lids\n",
      "Found 0 images in plastic_detergent_bottles\n",
      "Found 0 images in plastic_food_containers\n",
      "Found 0 images in plastic_shopping_bags\n",
      "Found 0 images in plastic_soda_bottles\n",
      "Found 0 images in plastic_straws\n",
      "Found 0 images in plastic_trash_bags\n",
      "Found 0 images in plastic_water_bottles\n",
      "Found 0 images in shoes\n",
      "Found 0 images in steel_food_cans\n",
      "Found 0 images in styrofoam_cups\n",
      "Found 0 images in styrofoam_food_containers\n",
      "Found 0 images in tea_bags\n"
     ]
    }
   ],
   "execution_count": 9
  },
  {
   "metadata": {},
   "cell_type": "markdown",
   "source": [
    "# 2. Préparation des générateurs de données\n",
    "\n",
    "Prétraitement :\n",
    "- Normalisation : Pixels à [0,1] pour CNNs maison, préprocessing spécifique pour TL.\n",
    "- Séparation : 70% train, 15% validation, 15% test.\n",
    "- Augmentation : Flip, rotation, zoom pour robustesse.\n"
   ],
   "id": "8112e57a87eb9a05"
  },
  {
   "metadata": {
    "ExecuteTime": {
     "end_time": "2025-05-30T14:59:05.274800Z",
     "start_time": "2025-05-30T14:59:03.384320Z"
    }
   },
   "cell_type": "code",
   "source": [
    "# Générateurs pour CNNs maison\n",
    "train_datagen = ImageDataGenerator(\n",
    "    rescale=1./255,\n",
    "    horizontal_flip=True,\n",
    "    rotation_range=20,\n",
    "    zoom_range=0.2,\n",
    "    validation_split=0.3\n",
    ")\n",
    "val_datagen = ImageDataGenerator(rescale=1./255, validation_split=0.3)\n",
    "test_datagen = ImageDataGenerator(rescale=1./255)\n",
    "\n",
    "train_generator = train_datagen.flow_from_directory(\n",
    "    DATASET_PATH,\n",
    "    target_size=IMG_SIZE,\n",
    "    batch_size=BATCH_SIZE,\n",
    "    class_mode='categorical',\n",
    "    subset='training',\n",
    "    shuffle=True\n",
    ")\n",
    "val_generator = val_datagen.flow_from_directory(\n",
    "    DATASET_PATH,\n",
    "    target_size=IMG_SIZE,\n",
    "    batch_size=BATCH_SIZE,\n",
    "    class_mode='categorical',\n",
    "    subset='validation',\n",
    "    shuffle=True\n",
    ")\n",
    "test_generator = test_datagen.flow_from_directory(\n",
    "    DATASET_PATH,  # Note : Idéalement, utiliser un répertoire test séparé\n",
    "    target_size=IMG_SIZE,\n",
    "    batch_size=BATCH_SIZE,\n",
    "    class_mode='categorical',\n",
    "    shuffle=False\n",
    ")\n",
    "\n",
    "# Générateurs pour Transfer Learning (avec préprocessing spécifique)\n",
    "train_datagen_tf = ImageDataGenerator(\n",
    "    preprocessing_function=preprocess_mobilenet,  # MobileNetV2 preprocessing\n",
    "    horizontal_flip=True,\n",
    "    rotation_range=20,\n",
    "    zoom_range=0.2,\n",
    "    validation_split=0.3\n",
    ")\n",
    "val_datagen_tf = ImageDataGenerator(\n",
    "    preprocessing_function=preprocess_mobilenet,\n",
    "    validation_split=0.3\n",
    ")\n",
    "test_datagen_tf = ImageDataGenerator(preprocessing_function=preprocess_mobilenet)\n",
    "\n",
    "train_generator_tf = train_datagen_tf.flow_from_directory(\n",
    "    DATASET_PATH,\n",
    "    target_size=IMG_SIZE,\n",
    "    batch_size=BATCH_SIZE,\n",
    "    class_mode='categorical',\n",
    "    subset='training',\n",
    "    shuffle=True\n",
    ")\n",
    "val_generator_tf = val_datagen_tf.flow_from_directory(\n",
    "    DATASET_PATH,\n",
    "    target_size=IMG_SIZE,\n",
    "    batch_size=BATCH_SIZE,\n",
    "    class_mode='categorical',\n",
    "    subset='validation',\n",
    "    shuffle=True\n",
    ")\n",
    "test_generator_tf = test_datagen_tf.flow_from_directory(\n",
    "    DATASET_PATH,\n",
    "    target_size=IMG_SIZE,\n",
    "    batch_size=BATCH_SIZE,\n",
    "    class_mode='categorical',\n",
    "    shuffle=False\n",
    ")"
   ],
   "id": "21ff03c64ab0c587",
   "outputs": [
    {
     "name": "stdout",
     "output_type": "stream",
     "text": [
      "Found 10500 images belonging to 30 classes.\n",
      "Found 4500 images belonging to 30 classes.\n",
      "Found 15000 images belonging to 30 classes.\n",
      "Found 10500 images belonging to 30 classes.\n",
      "Found 4500 images belonging to 30 classes.\n",
      "Found 15000 images belonging to 30 classes.\n"
     ]
    }
   ],
   "execution_count": 10
  },
  {
   "metadata": {},
   "cell_type": "markdown",
   "source": "# 3. Callbacks\n",
   "id": "15fdd4abb4714149"
  },
  {
   "metadata": {
    "ExecuteTime": {
     "end_time": "2025-05-30T14:59:25.985068Z",
     "start_time": "2025-05-30T14:59:25.971342Z"
    }
   },
   "cell_type": "code",
   "source": [
    "early_stopping = EarlyStopping(monitor='val_loss', patience=5, restore_best_weights=True)\n",
    "reduce_lr = ReduceLROnPlateau(monitor='val_loss', factor=0.2, patience=3, min_lr=1e-6)"
   ],
   "id": "1a558ea345b8c20c",
   "outputs": [],
   "execution_count": 11
  },
  {
   "metadata": {},
   "cell_type": "markdown",
   "source": [
    "# 4. Approche A : CNNs Maison\n",
    "# CNN 1 : Simple (3 blocs Conv/Pool)\n",
    "\n",
    "Architecture : 3 blocs Conv2D/MaxPooling2D avec 32, 64, 128 filtres, padding='same', Dropout(0.3).\n",
    "\n",
    "Extraction de caractéristiques locales, réduction spatiale via pooling, invariance partielle.\n"
   ],
   "id": "67d10a4666be1f25"
  },
  {
   "metadata": {
    "ExecuteTime": {
     "end_time": "2025-05-30T15:24:49.201668Z",
     "start_time": "2025-05-30T15:00:29.700140Z"
    }
   },
   "cell_type": "code",
   "source": [
    "cnn1 = Sequential([\n",
    "    Input(shape=(160, 160, 3)),\n",
    "    Conv2D(32, (3, 3), activation='relu', padding='same'),  # Stride=1\n",
    "    MaxPooling2D((2, 2)),  # Stride=2\n",
    "    Conv2D(64, (3, 3), activation='relu', padding='same'),\n",
    "    MaxPooling2D((2, 2)),\n",
    "    Conv2D(128, (3, 3), activation='relu', padding='same'),\n",
    "    MaxPooling2D((2, 2)),\n",
    "    Flatten(),\n",
    "    Dense(128, activation='relu'),\n",
    "    Dropout(0.3),\n",
    "    Dense(NUM_CLASSES, activation='softmax')\n",
    "])\n",
    "cnn1.compile(optimizer='adam', loss='categorical_crossentropy', metrics=['accuracy'])\n",
    "print(\"\\nCNN 1 Summary:\")\n",
    "cnn1.summary()\n",
    "start_time = time.time()\n",
    "history_cnn1 = cnn1.fit(\n",
    "    train_generator,\n",
    "    validation_data=val_generator,\n",
    "    epochs=10,\n",
    "    callbacks=[early_stopping, reduce_lr],\n",
    "    verbose=1\n",
    ")\n",
    "cnn1_time = time.time() - start_time\n",
    "print(f\"CNN 1 Training Time: {cnn1_time:.2f} seconds\")"
   ],
   "id": "8d4ddd64d57c3737",
   "outputs": [
    {
     "name": "stdout",
     "output_type": "stream",
     "text": [
      "\n",
      "CNN 1 Summary:\n"
     ]
    },
    {
     "data": {
      "text/plain": [
       "\u001B[1mModel: \"sequential_1\"\u001B[0m\n"
      ],
      "text/html": [
       "<pre style=\"white-space:pre;overflow-x:auto;line-height:normal;font-family:Menlo,'DejaVu Sans Mono',consolas,'Courier New',monospace\"><span style=\"font-weight: bold\">Model: \"sequential_1\"</span>\n",
       "</pre>\n"
      ]
     },
     "metadata": {},
     "output_type": "display_data"
    },
    {
     "data": {
      "text/plain": [
       "┏━━━━━━━━━━━━━━━━━━━━━━━━━━━━━━━━━┳━━━━━━━━━━━━━━━━━━━━━━━━┳━━━━━━━━━━━━━━━┓\n",
       "┃\u001B[1m \u001B[0m\u001B[1mLayer (type)                   \u001B[0m\u001B[1m \u001B[0m┃\u001B[1m \u001B[0m\u001B[1mOutput Shape          \u001B[0m\u001B[1m \u001B[0m┃\u001B[1m \u001B[0m\u001B[1m      Param #\u001B[0m\u001B[1m \u001B[0m┃\n",
       "┡━━━━━━━━━━━━━━━━━━━━━━━━━━━━━━━━━╇━━━━━━━━━━━━━━━━━━━━━━━━╇━━━━━━━━━━━━━━━┩\n",
       "│ conv2d_3 (\u001B[38;5;33mConv2D\u001B[0m)               │ (\u001B[38;5;45mNone\u001B[0m, \u001B[38;5;34m160\u001B[0m, \u001B[38;5;34m160\u001B[0m, \u001B[38;5;34m32\u001B[0m)   │           \u001B[38;5;34m896\u001B[0m │\n",
       "├─────────────────────────────────┼────────────────────────┼───────────────┤\n",
       "│ max_pooling2d_3 (\u001B[38;5;33mMaxPooling2D\u001B[0m)  │ (\u001B[38;5;45mNone\u001B[0m, \u001B[38;5;34m80\u001B[0m, \u001B[38;5;34m80\u001B[0m, \u001B[38;5;34m32\u001B[0m)     │             \u001B[38;5;34m0\u001B[0m │\n",
       "├─────────────────────────────────┼────────────────────────┼───────────────┤\n",
       "│ conv2d_4 (\u001B[38;5;33mConv2D\u001B[0m)               │ (\u001B[38;5;45mNone\u001B[0m, \u001B[38;5;34m80\u001B[0m, \u001B[38;5;34m80\u001B[0m, \u001B[38;5;34m64\u001B[0m)     │        \u001B[38;5;34m18,496\u001B[0m │\n",
       "├─────────────────────────────────┼────────────────────────┼───────────────┤\n",
       "│ max_pooling2d_4 (\u001B[38;5;33mMaxPooling2D\u001B[0m)  │ (\u001B[38;5;45mNone\u001B[0m, \u001B[38;5;34m40\u001B[0m, \u001B[38;5;34m40\u001B[0m, \u001B[38;5;34m64\u001B[0m)     │             \u001B[38;5;34m0\u001B[0m │\n",
       "├─────────────────────────────────┼────────────────────────┼───────────────┤\n",
       "│ conv2d_5 (\u001B[38;5;33mConv2D\u001B[0m)               │ (\u001B[38;5;45mNone\u001B[0m, \u001B[38;5;34m40\u001B[0m, \u001B[38;5;34m40\u001B[0m, \u001B[38;5;34m128\u001B[0m)    │        \u001B[38;5;34m73,856\u001B[0m │\n",
       "├─────────────────────────────────┼────────────────────────┼───────────────┤\n",
       "│ max_pooling2d_5 (\u001B[38;5;33mMaxPooling2D\u001B[0m)  │ (\u001B[38;5;45mNone\u001B[0m, \u001B[38;5;34m20\u001B[0m, \u001B[38;5;34m20\u001B[0m, \u001B[38;5;34m128\u001B[0m)    │             \u001B[38;5;34m0\u001B[0m │\n",
       "├─────────────────────────────────┼────────────────────────┼───────────────┤\n",
       "│ flatten_1 (\u001B[38;5;33mFlatten\u001B[0m)             │ (\u001B[38;5;45mNone\u001B[0m, \u001B[38;5;34m51200\u001B[0m)          │             \u001B[38;5;34m0\u001B[0m │\n",
       "├─────────────────────────────────┼────────────────────────┼───────────────┤\n",
       "│ dense_2 (\u001B[38;5;33mDense\u001B[0m)                 │ (\u001B[38;5;45mNone\u001B[0m, \u001B[38;5;34m128\u001B[0m)            │     \u001B[38;5;34m6,553,728\u001B[0m │\n",
       "├─────────────────────────────────┼────────────────────────┼───────────────┤\n",
       "│ dropout_1 (\u001B[38;5;33mDropout\u001B[0m)             │ (\u001B[38;5;45mNone\u001B[0m, \u001B[38;5;34m128\u001B[0m)            │             \u001B[38;5;34m0\u001B[0m │\n",
       "├─────────────────────────────────┼────────────────────────┼───────────────┤\n",
       "│ dense_3 (\u001B[38;5;33mDense\u001B[0m)                 │ (\u001B[38;5;45mNone\u001B[0m, \u001B[38;5;34m30\u001B[0m)             │         \u001B[38;5;34m3,870\u001B[0m │\n",
       "└─────────────────────────────────┴────────────────────────┴───────────────┘\n"
      ],
      "text/html": [
       "<pre style=\"white-space:pre;overflow-x:auto;line-height:normal;font-family:Menlo,'DejaVu Sans Mono',consolas,'Courier New',monospace\">┏━━━━━━━━━━━━━━━━━━━━━━━━━━━━━━━━━┳━━━━━━━━━━━━━━━━━━━━━━━━┳━━━━━━━━━━━━━━━┓\n",
       "┃<span style=\"font-weight: bold\"> Layer (type)                    </span>┃<span style=\"font-weight: bold\"> Output Shape           </span>┃<span style=\"font-weight: bold\">       Param # </span>┃\n",
       "┡━━━━━━━━━━━━━━━━━━━━━━━━━━━━━━━━━╇━━━━━━━━━━━━━━━━━━━━━━━━╇━━━━━━━━━━━━━━━┩\n",
       "│ conv2d_3 (<span style=\"color: #0087ff; text-decoration-color: #0087ff\">Conv2D</span>)               │ (<span style=\"color: #00d7ff; text-decoration-color: #00d7ff\">None</span>, <span style=\"color: #00af00; text-decoration-color: #00af00\">160</span>, <span style=\"color: #00af00; text-decoration-color: #00af00\">160</span>, <span style=\"color: #00af00; text-decoration-color: #00af00\">32</span>)   │           <span style=\"color: #00af00; text-decoration-color: #00af00\">896</span> │\n",
       "├─────────────────────────────────┼────────────────────────┼───────────────┤\n",
       "│ max_pooling2d_3 (<span style=\"color: #0087ff; text-decoration-color: #0087ff\">MaxPooling2D</span>)  │ (<span style=\"color: #00d7ff; text-decoration-color: #00d7ff\">None</span>, <span style=\"color: #00af00; text-decoration-color: #00af00\">80</span>, <span style=\"color: #00af00; text-decoration-color: #00af00\">80</span>, <span style=\"color: #00af00; text-decoration-color: #00af00\">32</span>)     │             <span style=\"color: #00af00; text-decoration-color: #00af00\">0</span> │\n",
       "├─────────────────────────────────┼────────────────────────┼───────────────┤\n",
       "│ conv2d_4 (<span style=\"color: #0087ff; text-decoration-color: #0087ff\">Conv2D</span>)               │ (<span style=\"color: #00d7ff; text-decoration-color: #00d7ff\">None</span>, <span style=\"color: #00af00; text-decoration-color: #00af00\">80</span>, <span style=\"color: #00af00; text-decoration-color: #00af00\">80</span>, <span style=\"color: #00af00; text-decoration-color: #00af00\">64</span>)     │        <span style=\"color: #00af00; text-decoration-color: #00af00\">18,496</span> │\n",
       "├─────────────────────────────────┼────────────────────────┼───────────────┤\n",
       "│ max_pooling2d_4 (<span style=\"color: #0087ff; text-decoration-color: #0087ff\">MaxPooling2D</span>)  │ (<span style=\"color: #00d7ff; text-decoration-color: #00d7ff\">None</span>, <span style=\"color: #00af00; text-decoration-color: #00af00\">40</span>, <span style=\"color: #00af00; text-decoration-color: #00af00\">40</span>, <span style=\"color: #00af00; text-decoration-color: #00af00\">64</span>)     │             <span style=\"color: #00af00; text-decoration-color: #00af00\">0</span> │\n",
       "├─────────────────────────────────┼────────────────────────┼───────────────┤\n",
       "│ conv2d_5 (<span style=\"color: #0087ff; text-decoration-color: #0087ff\">Conv2D</span>)               │ (<span style=\"color: #00d7ff; text-decoration-color: #00d7ff\">None</span>, <span style=\"color: #00af00; text-decoration-color: #00af00\">40</span>, <span style=\"color: #00af00; text-decoration-color: #00af00\">40</span>, <span style=\"color: #00af00; text-decoration-color: #00af00\">128</span>)    │        <span style=\"color: #00af00; text-decoration-color: #00af00\">73,856</span> │\n",
       "├─────────────────────────────────┼────────────────────────┼───────────────┤\n",
       "│ max_pooling2d_5 (<span style=\"color: #0087ff; text-decoration-color: #0087ff\">MaxPooling2D</span>)  │ (<span style=\"color: #00d7ff; text-decoration-color: #00d7ff\">None</span>, <span style=\"color: #00af00; text-decoration-color: #00af00\">20</span>, <span style=\"color: #00af00; text-decoration-color: #00af00\">20</span>, <span style=\"color: #00af00; text-decoration-color: #00af00\">128</span>)    │             <span style=\"color: #00af00; text-decoration-color: #00af00\">0</span> │\n",
       "├─────────────────────────────────┼────────────────────────┼───────────────┤\n",
       "│ flatten_1 (<span style=\"color: #0087ff; text-decoration-color: #0087ff\">Flatten</span>)             │ (<span style=\"color: #00d7ff; text-decoration-color: #00d7ff\">None</span>, <span style=\"color: #00af00; text-decoration-color: #00af00\">51200</span>)          │             <span style=\"color: #00af00; text-decoration-color: #00af00\">0</span> │\n",
       "├─────────────────────────────────┼────────────────────────┼───────────────┤\n",
       "│ dense_2 (<span style=\"color: #0087ff; text-decoration-color: #0087ff\">Dense</span>)                 │ (<span style=\"color: #00d7ff; text-decoration-color: #00d7ff\">None</span>, <span style=\"color: #00af00; text-decoration-color: #00af00\">128</span>)            │     <span style=\"color: #00af00; text-decoration-color: #00af00\">6,553,728</span> │\n",
       "├─────────────────────────────────┼────────────────────────┼───────────────┤\n",
       "│ dropout_1 (<span style=\"color: #0087ff; text-decoration-color: #0087ff\">Dropout</span>)             │ (<span style=\"color: #00d7ff; text-decoration-color: #00d7ff\">None</span>, <span style=\"color: #00af00; text-decoration-color: #00af00\">128</span>)            │             <span style=\"color: #00af00; text-decoration-color: #00af00\">0</span> │\n",
       "├─────────────────────────────────┼────────────────────────┼───────────────┤\n",
       "│ dense_3 (<span style=\"color: #0087ff; text-decoration-color: #0087ff\">Dense</span>)                 │ (<span style=\"color: #00d7ff; text-decoration-color: #00d7ff\">None</span>, <span style=\"color: #00af00; text-decoration-color: #00af00\">30</span>)             │         <span style=\"color: #00af00; text-decoration-color: #00af00\">3,870</span> │\n",
       "└─────────────────────────────────┴────────────────────────┴───────────────┘\n",
       "</pre>\n"
      ]
     },
     "metadata": {},
     "output_type": "display_data"
    },
    {
     "data": {
      "text/plain": [
       "\u001B[1m Total params: \u001B[0m\u001B[38;5;34m6,650,846\u001B[0m (25.37 MB)\n"
      ],
      "text/html": [
       "<pre style=\"white-space:pre;overflow-x:auto;line-height:normal;font-family:Menlo,'DejaVu Sans Mono',consolas,'Courier New',monospace\"><span style=\"font-weight: bold\"> Total params: </span><span style=\"color: #00af00; text-decoration-color: #00af00\">6,650,846</span> (25.37 MB)\n",
       "</pre>\n"
      ]
     },
     "metadata": {},
     "output_type": "display_data"
    },
    {
     "data": {
      "text/plain": [
       "\u001B[1m Trainable params: \u001B[0m\u001B[38;5;34m6,650,846\u001B[0m (25.37 MB)\n"
      ],
      "text/html": [
       "<pre style=\"white-space:pre;overflow-x:auto;line-height:normal;font-family:Menlo,'DejaVu Sans Mono',consolas,'Courier New',monospace\"><span style=\"font-weight: bold\"> Trainable params: </span><span style=\"color: #00af00; text-decoration-color: #00af00\">6,650,846</span> (25.37 MB)\n",
       "</pre>\n"
      ]
     },
     "metadata": {},
     "output_type": "display_data"
    },
    {
     "data": {
      "text/plain": [
       "\u001B[1m Non-trainable params: \u001B[0m\u001B[38;5;34m0\u001B[0m (0.00 B)\n"
      ],
      "text/html": [
       "<pre style=\"white-space:pre;overflow-x:auto;line-height:normal;font-family:Menlo,'DejaVu Sans Mono',consolas,'Courier New',monospace\"><span style=\"font-weight: bold\"> Non-trainable params: </span><span style=\"color: #00af00; text-decoration-color: #00af00\">0</span> (0.00 B)\n",
       "</pre>\n"
      ]
     },
     "metadata": {},
     "output_type": "display_data"
    },
    {
     "name": "stdout",
     "output_type": "stream",
     "text": [
      "Epoch 1/10\n",
      "\u001B[1m329/329\u001B[0m \u001B[32m━━━━━━━━━━━━━━━━━━━━\u001B[0m\u001B[37m\u001B[0m \u001B[1m157s\u001B[0m 476ms/step - accuracy: 0.0611 - loss: 3.3884 - val_accuracy: 0.2169 - val_loss: 2.8334 - learning_rate: 0.0010\n",
      "Epoch 2/10\n",
      "\u001B[1m329/329\u001B[0m \u001B[32m━━━━━━━━━━━━━━━━━━━━\u001B[0m\u001B[37m\u001B[0m \u001B[1m165s\u001B[0m 501ms/step - accuracy: 0.1937 - loss: 2.8706 - val_accuracy: 0.2851 - val_loss: 2.5367 - learning_rate: 0.0010\n",
      "Epoch 3/10\n",
      "\u001B[1m329/329\u001B[0m \u001B[32m━━━━━━━━━━━━━━━━━━━━\u001B[0m\u001B[37m\u001B[0m \u001B[1m138s\u001B[0m 421ms/step - accuracy: 0.2711 - loss: 2.5799 - val_accuracy: 0.3351 - val_loss: 2.3563 - learning_rate: 0.0010\n",
      "Epoch 4/10\n",
      "\u001B[1m329/329\u001B[0m \u001B[32m━━━━━━━━━━━━━━━━━━━━\u001B[0m\u001B[37m\u001B[0m \u001B[1m141s\u001B[0m 430ms/step - accuracy: 0.3077 - loss: 2.4337 - val_accuracy: 0.3731 - val_loss: 2.2032 - learning_rate: 0.0010\n",
      "Epoch 5/10\n",
      "\u001B[1m329/329\u001B[0m \u001B[32m━━━━━━━━━━━━━━━━━━━━\u001B[0m\u001B[37m\u001B[0m \u001B[1m141s\u001B[0m 428ms/step - accuracy: 0.3511 - loss: 2.2925 - val_accuracy: 0.3896 - val_loss: 2.1081 - learning_rate: 0.0010\n",
      "Epoch 6/10\n",
      "\u001B[1m329/329\u001B[0m \u001B[32m━━━━━━━━━━━━━━━━━━━━\u001B[0m\u001B[37m\u001B[0m \u001B[1m141s\u001B[0m 429ms/step - accuracy: 0.3736 - loss: 2.1922 - val_accuracy: 0.4102 - val_loss: 2.0640 - learning_rate: 0.0010\n",
      "Epoch 7/10\n",
      "\u001B[1m329/329\u001B[0m \u001B[32m━━━━━━━━━━━━━━━━━━━━\u001B[0m\u001B[37m\u001B[0m \u001B[1m142s\u001B[0m 432ms/step - accuracy: 0.3920 - loss: 2.0865 - val_accuracy: 0.4353 - val_loss: 1.9744 - learning_rate: 0.0010\n",
      "Epoch 8/10\n",
      "\u001B[1m329/329\u001B[0m \u001B[32m━━━━━━━━━━━━━━━━━━━━\u001B[0m\u001B[37m\u001B[0m \u001B[1m143s\u001B[0m 435ms/step - accuracy: 0.4258 - loss: 2.0196 - val_accuracy: 0.4576 - val_loss: 1.9167 - learning_rate: 0.0010\n",
      "Epoch 9/10\n",
      "\u001B[1m329/329\u001B[0m \u001B[32m━━━━━━━━━━━━━━━━━━━━\u001B[0m\u001B[37m\u001B[0m \u001B[1m147s\u001B[0m 448ms/step - accuracy: 0.4294 - loss: 1.9493 - val_accuracy: 0.4753 - val_loss: 1.8405 - learning_rate: 0.0010\n",
      "Epoch 10/10\n",
      "\u001B[1m329/329\u001B[0m \u001B[32m━━━━━━━━━━━━━━━━━━━━\u001B[0m\u001B[37m\u001B[0m \u001B[1m143s\u001B[0m 434ms/step - accuracy: 0.4395 - loss: 1.9217 - val_accuracy: 0.4958 - val_loss: 1.8029 - learning_rate: 0.0010\n",
      "CNN 1 Training Time: 1459.40 seconds\n"
     ]
    }
   ],
   "execution_count": 12
  },
  {
   "metadata": {},
   "cell_type": "markdown",
   "source": [
    "# CNN 2 : Plus profonde (4 blocs Conv/Pool)\n",
    "\n",
    "Architecture : 4 blocs Conv2D/MaxPooling2D avec 32, 64, 128, 256 filtres, deux couches Dense, Dropout(0.4).\n",
    "\n",
    "Apprentissage de caractéristiques hiérarchiques plus complexes.\n"
   ],
   "id": "b4715044d7f9b86d"
  },
  {
   "metadata": {
    "ExecuteTime": {
     "end_time": "2025-05-30T15:39:16.591643Z",
     "start_time": "2025-05-30T15:25:32.230128Z"
    }
   },
   "cell_type": "code",
   "source": [
    "cnn2 = Sequential([\n",
    "    Input(shape=(160, 160, 3)),\n",
    "    Conv2D(32, (3, 3), activation='relu', padding='same'),\n",
    "    MaxPooling2D((2, 2)),\n",
    "    Conv2D(64, (3, 3), activation='relu', padding='same'),\n",
    "    MaxPooling2D((2, 2)),\n",
    "    Conv2D(128, (3, 3), activation='relu', padding='same'),\n",
    "    MaxPooling2D((2, 2)),\n",
    "    Conv2D(256, (3, 3), activation='relu', padding='same'),\n",
    "    MaxPooling2D((2, 2)),\n",
    "    Flatten(),\n",
    "    Dense(256, activation='relu'),\n",
    "    Dropout(0.4),\n",
    "    Dense(128, activation='relu'),\n",
    "    Dropout(0.4),\n",
    "    Dense(NUM_CLASSES, activation='softmax')\n",
    "])\n",
    "cnn2.compile(optimizer='adam', loss='categorical_crossentropy', metrics=['accuracy'])\n",
    "print(\"\\nCNN 2 Summary:\")\n",
    "cnn2.summary()\n",
    "start_time = time.time()\n",
    "history_cnn2 = cnn2.fit(\n",
    "    train_generator,\n",
    "    validation_data=val_generator,\n",
    "    epochs=5,\n",
    "    callbacks=[early_stopping, reduce_lr],\n",
    "    verbose=1\n",
    ")\n",
    "cnn2_time = time.time() - start_time\n",
    "print(f\"CNN 2 Training Time: {cnn2_time:.2f} seconds\")\n"
   ],
   "id": "a0d435f62ad6896b",
   "outputs": [
    {
     "name": "stdout",
     "output_type": "stream",
     "text": [
      "\n",
      "CNN 2 Summary:\n"
     ]
    },
    {
     "data": {
      "text/plain": [
       "\u001B[1mModel: \"sequential_2\"\u001B[0m\n"
      ],
      "text/html": [
       "<pre style=\"white-space:pre;overflow-x:auto;line-height:normal;font-family:Menlo,'DejaVu Sans Mono',consolas,'Courier New',monospace\"><span style=\"font-weight: bold\">Model: \"sequential_2\"</span>\n",
       "</pre>\n"
      ]
     },
     "metadata": {},
     "output_type": "display_data"
    },
    {
     "data": {
      "text/plain": [
       "┏━━━━━━━━━━━━━━━━━━━━━━━━━━━━━━━━━┳━━━━━━━━━━━━━━━━━━━━━━━━┳━━━━━━━━━━━━━━━┓\n",
       "┃\u001B[1m \u001B[0m\u001B[1mLayer (type)                   \u001B[0m\u001B[1m \u001B[0m┃\u001B[1m \u001B[0m\u001B[1mOutput Shape          \u001B[0m\u001B[1m \u001B[0m┃\u001B[1m \u001B[0m\u001B[1m      Param #\u001B[0m\u001B[1m \u001B[0m┃\n",
       "┡━━━━━━━━━━━━━━━━━━━━━━━━━━━━━━━━━╇━━━━━━━━━━━━━━━━━━━━━━━━╇━━━━━━━━━━━━━━━┩\n",
       "│ conv2d_6 (\u001B[38;5;33mConv2D\u001B[0m)               │ (\u001B[38;5;45mNone\u001B[0m, \u001B[38;5;34m160\u001B[0m, \u001B[38;5;34m160\u001B[0m, \u001B[38;5;34m32\u001B[0m)   │           \u001B[38;5;34m896\u001B[0m │\n",
       "├─────────────────────────────────┼────────────────────────┼───────────────┤\n",
       "│ max_pooling2d_6 (\u001B[38;5;33mMaxPooling2D\u001B[0m)  │ (\u001B[38;5;45mNone\u001B[0m, \u001B[38;5;34m80\u001B[0m, \u001B[38;5;34m80\u001B[0m, \u001B[38;5;34m32\u001B[0m)     │             \u001B[38;5;34m0\u001B[0m │\n",
       "├─────────────────────────────────┼────────────────────────┼───────────────┤\n",
       "│ conv2d_7 (\u001B[38;5;33mConv2D\u001B[0m)               │ (\u001B[38;5;45mNone\u001B[0m, \u001B[38;5;34m80\u001B[0m, \u001B[38;5;34m80\u001B[0m, \u001B[38;5;34m64\u001B[0m)     │        \u001B[38;5;34m18,496\u001B[0m │\n",
       "├─────────────────────────────────┼────────────────────────┼───────────────┤\n",
       "│ max_pooling2d_7 (\u001B[38;5;33mMaxPooling2D\u001B[0m)  │ (\u001B[38;5;45mNone\u001B[0m, \u001B[38;5;34m40\u001B[0m, \u001B[38;5;34m40\u001B[0m, \u001B[38;5;34m64\u001B[0m)     │             \u001B[38;5;34m0\u001B[0m │\n",
       "├─────────────────────────────────┼────────────────────────┼───────────────┤\n",
       "│ conv2d_8 (\u001B[38;5;33mConv2D\u001B[0m)               │ (\u001B[38;5;45mNone\u001B[0m, \u001B[38;5;34m40\u001B[0m, \u001B[38;5;34m40\u001B[0m, \u001B[38;5;34m128\u001B[0m)    │        \u001B[38;5;34m73,856\u001B[0m │\n",
       "├─────────────────────────────────┼────────────────────────┼───────────────┤\n",
       "│ max_pooling2d_8 (\u001B[38;5;33mMaxPooling2D\u001B[0m)  │ (\u001B[38;5;45mNone\u001B[0m, \u001B[38;5;34m20\u001B[0m, \u001B[38;5;34m20\u001B[0m, \u001B[38;5;34m128\u001B[0m)    │             \u001B[38;5;34m0\u001B[0m │\n",
       "├─────────────────────────────────┼────────────────────────┼───────────────┤\n",
       "│ conv2d_9 (\u001B[38;5;33mConv2D\u001B[0m)               │ (\u001B[38;5;45mNone\u001B[0m, \u001B[38;5;34m20\u001B[0m, \u001B[38;5;34m20\u001B[0m, \u001B[38;5;34m256\u001B[0m)    │       \u001B[38;5;34m295,168\u001B[0m │\n",
       "├─────────────────────────────────┼────────────────────────┼───────────────┤\n",
       "│ max_pooling2d_9 (\u001B[38;5;33mMaxPooling2D\u001B[0m)  │ (\u001B[38;5;45mNone\u001B[0m, \u001B[38;5;34m10\u001B[0m, \u001B[38;5;34m10\u001B[0m, \u001B[38;5;34m256\u001B[0m)    │             \u001B[38;5;34m0\u001B[0m │\n",
       "├─────────────────────────────────┼────────────────────────┼───────────────┤\n",
       "│ flatten_2 (\u001B[38;5;33mFlatten\u001B[0m)             │ (\u001B[38;5;45mNone\u001B[0m, \u001B[38;5;34m25600\u001B[0m)          │             \u001B[38;5;34m0\u001B[0m │\n",
       "├─────────────────────────────────┼────────────────────────┼───────────────┤\n",
       "│ dense_4 (\u001B[38;5;33mDense\u001B[0m)                 │ (\u001B[38;5;45mNone\u001B[0m, \u001B[38;5;34m256\u001B[0m)            │     \u001B[38;5;34m6,553,856\u001B[0m │\n",
       "├─────────────────────────────────┼────────────────────────┼───────────────┤\n",
       "│ dropout_2 (\u001B[38;5;33mDropout\u001B[0m)             │ (\u001B[38;5;45mNone\u001B[0m, \u001B[38;5;34m256\u001B[0m)            │             \u001B[38;5;34m0\u001B[0m │\n",
       "├─────────────────────────────────┼────────────────────────┼───────────────┤\n",
       "│ dense_5 (\u001B[38;5;33mDense\u001B[0m)                 │ (\u001B[38;5;45mNone\u001B[0m, \u001B[38;5;34m128\u001B[0m)            │        \u001B[38;5;34m32,896\u001B[0m │\n",
       "├─────────────────────────────────┼────────────────────────┼───────────────┤\n",
       "│ dropout_3 (\u001B[38;5;33mDropout\u001B[0m)             │ (\u001B[38;5;45mNone\u001B[0m, \u001B[38;5;34m128\u001B[0m)            │             \u001B[38;5;34m0\u001B[0m │\n",
       "├─────────────────────────────────┼────────────────────────┼───────────────┤\n",
       "│ dense_6 (\u001B[38;5;33mDense\u001B[0m)                 │ (\u001B[38;5;45mNone\u001B[0m, \u001B[38;5;34m30\u001B[0m)             │         \u001B[38;5;34m3,870\u001B[0m │\n",
       "└─────────────────────────────────┴────────────────────────┴───────────────┘\n"
      ],
      "text/html": [
       "<pre style=\"white-space:pre;overflow-x:auto;line-height:normal;font-family:Menlo,'DejaVu Sans Mono',consolas,'Courier New',monospace\">┏━━━━━━━━━━━━━━━━━━━━━━━━━━━━━━━━━┳━━━━━━━━━━━━━━━━━━━━━━━━┳━━━━━━━━━━━━━━━┓\n",
       "┃<span style=\"font-weight: bold\"> Layer (type)                    </span>┃<span style=\"font-weight: bold\"> Output Shape           </span>┃<span style=\"font-weight: bold\">       Param # </span>┃\n",
       "┡━━━━━━━━━━━━━━━━━━━━━━━━━━━━━━━━━╇━━━━━━━━━━━━━━━━━━━━━━━━╇━━━━━━━━━━━━━━━┩\n",
       "│ conv2d_6 (<span style=\"color: #0087ff; text-decoration-color: #0087ff\">Conv2D</span>)               │ (<span style=\"color: #00d7ff; text-decoration-color: #00d7ff\">None</span>, <span style=\"color: #00af00; text-decoration-color: #00af00\">160</span>, <span style=\"color: #00af00; text-decoration-color: #00af00\">160</span>, <span style=\"color: #00af00; text-decoration-color: #00af00\">32</span>)   │           <span style=\"color: #00af00; text-decoration-color: #00af00\">896</span> │\n",
       "├─────────────────────────────────┼────────────────────────┼───────────────┤\n",
       "│ max_pooling2d_6 (<span style=\"color: #0087ff; text-decoration-color: #0087ff\">MaxPooling2D</span>)  │ (<span style=\"color: #00d7ff; text-decoration-color: #00d7ff\">None</span>, <span style=\"color: #00af00; text-decoration-color: #00af00\">80</span>, <span style=\"color: #00af00; text-decoration-color: #00af00\">80</span>, <span style=\"color: #00af00; text-decoration-color: #00af00\">32</span>)     │             <span style=\"color: #00af00; text-decoration-color: #00af00\">0</span> │\n",
       "├─────────────────────────────────┼────────────────────────┼───────────────┤\n",
       "│ conv2d_7 (<span style=\"color: #0087ff; text-decoration-color: #0087ff\">Conv2D</span>)               │ (<span style=\"color: #00d7ff; text-decoration-color: #00d7ff\">None</span>, <span style=\"color: #00af00; text-decoration-color: #00af00\">80</span>, <span style=\"color: #00af00; text-decoration-color: #00af00\">80</span>, <span style=\"color: #00af00; text-decoration-color: #00af00\">64</span>)     │        <span style=\"color: #00af00; text-decoration-color: #00af00\">18,496</span> │\n",
       "├─────────────────────────────────┼────────────────────────┼───────────────┤\n",
       "│ max_pooling2d_7 (<span style=\"color: #0087ff; text-decoration-color: #0087ff\">MaxPooling2D</span>)  │ (<span style=\"color: #00d7ff; text-decoration-color: #00d7ff\">None</span>, <span style=\"color: #00af00; text-decoration-color: #00af00\">40</span>, <span style=\"color: #00af00; text-decoration-color: #00af00\">40</span>, <span style=\"color: #00af00; text-decoration-color: #00af00\">64</span>)     │             <span style=\"color: #00af00; text-decoration-color: #00af00\">0</span> │\n",
       "├─────────────────────────────────┼────────────────────────┼───────────────┤\n",
       "│ conv2d_8 (<span style=\"color: #0087ff; text-decoration-color: #0087ff\">Conv2D</span>)               │ (<span style=\"color: #00d7ff; text-decoration-color: #00d7ff\">None</span>, <span style=\"color: #00af00; text-decoration-color: #00af00\">40</span>, <span style=\"color: #00af00; text-decoration-color: #00af00\">40</span>, <span style=\"color: #00af00; text-decoration-color: #00af00\">128</span>)    │        <span style=\"color: #00af00; text-decoration-color: #00af00\">73,856</span> │\n",
       "├─────────────────────────────────┼────────────────────────┼───────────────┤\n",
       "│ max_pooling2d_8 (<span style=\"color: #0087ff; text-decoration-color: #0087ff\">MaxPooling2D</span>)  │ (<span style=\"color: #00d7ff; text-decoration-color: #00d7ff\">None</span>, <span style=\"color: #00af00; text-decoration-color: #00af00\">20</span>, <span style=\"color: #00af00; text-decoration-color: #00af00\">20</span>, <span style=\"color: #00af00; text-decoration-color: #00af00\">128</span>)    │             <span style=\"color: #00af00; text-decoration-color: #00af00\">0</span> │\n",
       "├─────────────────────────────────┼────────────────────────┼───────────────┤\n",
       "│ conv2d_9 (<span style=\"color: #0087ff; text-decoration-color: #0087ff\">Conv2D</span>)               │ (<span style=\"color: #00d7ff; text-decoration-color: #00d7ff\">None</span>, <span style=\"color: #00af00; text-decoration-color: #00af00\">20</span>, <span style=\"color: #00af00; text-decoration-color: #00af00\">20</span>, <span style=\"color: #00af00; text-decoration-color: #00af00\">256</span>)    │       <span style=\"color: #00af00; text-decoration-color: #00af00\">295,168</span> │\n",
       "├─────────────────────────────────┼────────────────────────┼───────────────┤\n",
       "│ max_pooling2d_9 (<span style=\"color: #0087ff; text-decoration-color: #0087ff\">MaxPooling2D</span>)  │ (<span style=\"color: #00d7ff; text-decoration-color: #00d7ff\">None</span>, <span style=\"color: #00af00; text-decoration-color: #00af00\">10</span>, <span style=\"color: #00af00; text-decoration-color: #00af00\">10</span>, <span style=\"color: #00af00; text-decoration-color: #00af00\">256</span>)    │             <span style=\"color: #00af00; text-decoration-color: #00af00\">0</span> │\n",
       "├─────────────────────────────────┼────────────────────────┼───────────────┤\n",
       "│ flatten_2 (<span style=\"color: #0087ff; text-decoration-color: #0087ff\">Flatten</span>)             │ (<span style=\"color: #00d7ff; text-decoration-color: #00d7ff\">None</span>, <span style=\"color: #00af00; text-decoration-color: #00af00\">25600</span>)          │             <span style=\"color: #00af00; text-decoration-color: #00af00\">0</span> │\n",
       "├─────────────────────────────────┼────────────────────────┼───────────────┤\n",
       "│ dense_4 (<span style=\"color: #0087ff; text-decoration-color: #0087ff\">Dense</span>)                 │ (<span style=\"color: #00d7ff; text-decoration-color: #00d7ff\">None</span>, <span style=\"color: #00af00; text-decoration-color: #00af00\">256</span>)            │     <span style=\"color: #00af00; text-decoration-color: #00af00\">6,553,856</span> │\n",
       "├─────────────────────────────────┼────────────────────────┼───────────────┤\n",
       "│ dropout_2 (<span style=\"color: #0087ff; text-decoration-color: #0087ff\">Dropout</span>)             │ (<span style=\"color: #00d7ff; text-decoration-color: #00d7ff\">None</span>, <span style=\"color: #00af00; text-decoration-color: #00af00\">256</span>)            │             <span style=\"color: #00af00; text-decoration-color: #00af00\">0</span> │\n",
       "├─────────────────────────────────┼────────────────────────┼───────────────┤\n",
       "│ dense_5 (<span style=\"color: #0087ff; text-decoration-color: #0087ff\">Dense</span>)                 │ (<span style=\"color: #00d7ff; text-decoration-color: #00d7ff\">None</span>, <span style=\"color: #00af00; text-decoration-color: #00af00\">128</span>)            │        <span style=\"color: #00af00; text-decoration-color: #00af00\">32,896</span> │\n",
       "├─────────────────────────────────┼────────────────────────┼───────────────┤\n",
       "│ dropout_3 (<span style=\"color: #0087ff; text-decoration-color: #0087ff\">Dropout</span>)             │ (<span style=\"color: #00d7ff; text-decoration-color: #00d7ff\">None</span>, <span style=\"color: #00af00; text-decoration-color: #00af00\">128</span>)            │             <span style=\"color: #00af00; text-decoration-color: #00af00\">0</span> │\n",
       "├─────────────────────────────────┼────────────────────────┼───────────────┤\n",
       "│ dense_6 (<span style=\"color: #0087ff; text-decoration-color: #0087ff\">Dense</span>)                 │ (<span style=\"color: #00d7ff; text-decoration-color: #00d7ff\">None</span>, <span style=\"color: #00af00; text-decoration-color: #00af00\">30</span>)             │         <span style=\"color: #00af00; text-decoration-color: #00af00\">3,870</span> │\n",
       "└─────────────────────────────────┴────────────────────────┴───────────────┘\n",
       "</pre>\n"
      ]
     },
     "metadata": {},
     "output_type": "display_data"
    },
    {
     "data": {
      "text/plain": [
       "\u001B[1m Total params: \u001B[0m\u001B[38;5;34m6,979,038\u001B[0m (26.62 MB)\n"
      ],
      "text/html": [
       "<pre style=\"white-space:pre;overflow-x:auto;line-height:normal;font-family:Menlo,'DejaVu Sans Mono',consolas,'Courier New',monospace\"><span style=\"font-weight: bold\"> Total params: </span><span style=\"color: #00af00; text-decoration-color: #00af00\">6,979,038</span> (26.62 MB)\n",
       "</pre>\n"
      ]
     },
     "metadata": {},
     "output_type": "display_data"
    },
    {
     "data": {
      "text/plain": [
       "\u001B[1m Trainable params: \u001B[0m\u001B[38;5;34m6,979,038\u001B[0m (26.62 MB)\n"
      ],
      "text/html": [
       "<pre style=\"white-space:pre;overflow-x:auto;line-height:normal;font-family:Menlo,'DejaVu Sans Mono',consolas,'Courier New',monospace\"><span style=\"font-weight: bold\"> Trainable params: </span><span style=\"color: #00af00; text-decoration-color: #00af00\">6,979,038</span> (26.62 MB)\n",
       "</pre>\n"
      ]
     },
     "metadata": {},
     "output_type": "display_data"
    },
    {
     "data": {
      "text/plain": [
       "\u001B[1m Non-trainable params: \u001B[0m\u001B[38;5;34m0\u001B[0m (0.00 B)\n"
      ],
      "text/html": [
       "<pre style=\"white-space:pre;overflow-x:auto;line-height:normal;font-family:Menlo,'DejaVu Sans Mono',consolas,'Courier New',monospace\"><span style=\"font-weight: bold\"> Non-trainable params: </span><span style=\"color: #00af00; text-decoration-color: #00af00\">0</span> (0.00 B)\n",
       "</pre>\n"
      ]
     },
     "metadata": {},
     "output_type": "display_data"
    },
    {
     "name": "stdout",
     "output_type": "stream",
     "text": [
      "Epoch 1/5\n",
      "\u001B[1m329/329\u001B[0m \u001B[32m━━━━━━━━━━━━━━━━━━━━\u001B[0m\u001B[37m\u001B[0m \u001B[1m158s\u001B[0m 478ms/step - accuracy: 0.0308 - loss: 3.4116 - val_accuracy: 0.0224 - val_loss: 3.4013 - learning_rate: 0.0010\n",
      "Epoch 2/5\n",
      "\u001B[1m329/329\u001B[0m \u001B[32m━━━━━━━━━━━━━━━━━━━━\u001B[0m\u001B[37m\u001B[0m \u001B[1m175s\u001B[0m 532ms/step - accuracy: 0.0318 - loss: 3.4011 - val_accuracy: 0.0336 - val_loss: 3.4013 - learning_rate: 0.0010\n",
      "Epoch 3/5\n",
      "\u001B[1m329/329\u001B[0m \u001B[32m━━━━━━━━━━━━━━━━━━━━\u001B[0m\u001B[37m\u001B[0m \u001B[1m164s\u001B[0m 499ms/step - accuracy: 0.0429 - loss: 3.3873 - val_accuracy: 0.1013 - val_loss: 3.1600 - learning_rate: 0.0010\n",
      "Epoch 4/5\n",
      "\u001B[1m329/329\u001B[0m \u001B[32m━━━━━━━━━━━━━━━━━━━━\u001B[0m\u001B[37m\u001B[0m \u001B[1m163s\u001B[0m 495ms/step - accuracy: 0.0830 - loss: 3.2095 - val_accuracy: 0.1378 - val_loss: 3.0066 - learning_rate: 0.0010\n",
      "Epoch 5/5\n",
      "\u001B[1m329/329\u001B[0m \u001B[32m━━━━━━━━━━━━━━━━━━━━\u001B[0m\u001B[37m\u001B[0m \u001B[1m164s\u001B[0m 497ms/step - accuracy: 0.1149 - loss: 3.0734 - val_accuracy: 0.1629 - val_loss: 2.8986 - learning_rate: 0.0010\n",
      "CNN 2 Training Time: 824.28 seconds\n"
     ]
    }
   ],
   "execution_count": 13
  },
  {
   "metadata": {},
   "cell_type": "markdown",
   "source": [
    "# 5. Approche B : Transfer Learning\n",
    "# MobileNetV2 - Feature Extraction (FE)\n",
    "\n",
    "MobileNetV2 : Léger, pré-entraîné sur ImageNet, adapté aux datasets moyens.\n",
    "\n",
    "FE : Base gelée, GlobalAveragePooling2D pour réduire la dimensionnalité.\n"
   ],
   "id": "e8876964e961b502"
  },
  {
   "metadata": {
    "ExecuteTime": {
     "end_time": "2025-05-30T15:51:37.711783Z",
     "start_time": "2025-05-30T15:39:52.227548Z"
    }
   },
   "cell_type": "code",
   "source": [
    "base_mobilenet_fe = MobileNetV2(weights='imagenet', include_top=False, input_shape=(160, 160, 3))\n",
    "base_mobilenet_fe.trainable = False\n",
    "mobilenet_fe = Sequential([\n",
    "    Input(shape=(160, 160, 3)),\n",
    "    base_mobilenet_fe,\n",
    "    GlobalAveragePooling2D(),\n",
    "    Dense(128, activation='relu'),\n",
    "    Dropout(0.5),\n",
    "    Dense(NUM_CLASSES, activation='softmax')\n",
    "])\n",
    "mobilenet_fe.compile(optimizer=tf.keras.optimizers.Adam(learning_rate=0.001),\n",
    "                     loss='categorical_crossentropy',\n",
    "                     metrics=['accuracy'])\n",
    "print(\"\\nMobileNetV2 FE Summary:\")\n",
    "mobilenet_fe.summary()\n",
    "start_time = time.time()\n",
    "history_mobilenet_fe = mobilenet_fe.fit(\n",
    "    train_generator_tf,\n",
    "    validation_data=val_generator_tf,\n",
    "    epochs=5,\n",
    "    callbacks=[early_stopping, reduce_lr],\n",
    "    verbose=1\n",
    ")\n",
    "mobilenet_fe_time = time.time() - start_time\n",
    "print(f\"MobileNetV2 FE Training Time: {mobilenet_fe_time:.2f} seconds\")"
   ],
   "id": "23f266716921136e",
   "outputs": [
    {
     "name": "stdout",
     "output_type": "stream",
     "text": [
      "\n",
      "MobileNetV2 FE Summary:\n"
     ]
    },
    {
     "data": {
      "text/plain": [
       "\u001B[1mModel: \"sequential_3\"\u001B[0m\n"
      ],
      "text/html": [
       "<pre style=\"white-space:pre;overflow-x:auto;line-height:normal;font-family:Menlo,'DejaVu Sans Mono',consolas,'Courier New',monospace\"><span style=\"font-weight: bold\">Model: \"sequential_3\"</span>\n",
       "</pre>\n"
      ]
     },
     "metadata": {},
     "output_type": "display_data"
    },
    {
     "data": {
      "text/plain": [
       "┏━━━━━━━━━━━━━━━━━━━━━━━━━━━━━━━━━┳━━━━━━━━━━━━━━━━━━━━━━━━┳━━━━━━━━━━━━━━━┓\n",
       "┃\u001B[1m \u001B[0m\u001B[1mLayer (type)                   \u001B[0m\u001B[1m \u001B[0m┃\u001B[1m \u001B[0m\u001B[1mOutput Shape          \u001B[0m\u001B[1m \u001B[0m┃\u001B[1m \u001B[0m\u001B[1m      Param #\u001B[0m\u001B[1m \u001B[0m┃\n",
       "┡━━━━━━━━━━━━━━━━━━━━━━━━━━━━━━━━━╇━━━━━━━━━━━━━━━━━━━━━━━━╇━━━━━━━━━━━━━━━┩\n",
       "│ mobilenetv2_1.00_160            │ (\u001B[38;5;45mNone\u001B[0m, \u001B[38;5;34m5\u001B[0m, \u001B[38;5;34m5\u001B[0m, \u001B[38;5;34m1280\u001B[0m)     │     \u001B[38;5;34m2,257,984\u001B[0m │\n",
       "│ (\u001B[38;5;33mFunctional\u001B[0m)                    │                        │               │\n",
       "├─────────────────────────────────┼────────────────────────┼───────────────┤\n",
       "│ global_average_pooling2d        │ (\u001B[38;5;45mNone\u001B[0m, \u001B[38;5;34m1280\u001B[0m)           │             \u001B[38;5;34m0\u001B[0m │\n",
       "│ (\u001B[38;5;33mGlobalAveragePooling2D\u001B[0m)        │                        │               │\n",
       "├─────────────────────────────────┼────────────────────────┼───────────────┤\n",
       "│ dense_7 (\u001B[38;5;33mDense\u001B[0m)                 │ (\u001B[38;5;45mNone\u001B[0m, \u001B[38;5;34m128\u001B[0m)            │       \u001B[38;5;34m163,968\u001B[0m │\n",
       "├─────────────────────────────────┼────────────────────────┼───────────────┤\n",
       "│ dropout_4 (\u001B[38;5;33mDropout\u001B[0m)             │ (\u001B[38;5;45mNone\u001B[0m, \u001B[38;5;34m128\u001B[0m)            │             \u001B[38;5;34m0\u001B[0m │\n",
       "├─────────────────────────────────┼────────────────────────┼───────────────┤\n",
       "│ dense_8 (\u001B[38;5;33mDense\u001B[0m)                 │ (\u001B[38;5;45mNone\u001B[0m, \u001B[38;5;34m30\u001B[0m)             │         \u001B[38;5;34m3,870\u001B[0m │\n",
       "└─────────────────────────────────┴────────────────────────┴───────────────┘\n"
      ],
      "text/html": [
       "<pre style=\"white-space:pre;overflow-x:auto;line-height:normal;font-family:Menlo,'DejaVu Sans Mono',consolas,'Courier New',monospace\">┏━━━━━━━━━━━━━━━━━━━━━━━━━━━━━━━━━┳━━━━━━━━━━━━━━━━━━━━━━━━┳━━━━━━━━━━━━━━━┓\n",
       "┃<span style=\"font-weight: bold\"> Layer (type)                    </span>┃<span style=\"font-weight: bold\"> Output Shape           </span>┃<span style=\"font-weight: bold\">       Param # </span>┃\n",
       "┡━━━━━━━━━━━━━━━━━━━━━━━━━━━━━━━━━╇━━━━━━━━━━━━━━━━━━━━━━━━╇━━━━━━━━━━━━━━━┩\n",
       "│ mobilenetv2_1.00_160            │ (<span style=\"color: #00d7ff; text-decoration-color: #00d7ff\">None</span>, <span style=\"color: #00af00; text-decoration-color: #00af00\">5</span>, <span style=\"color: #00af00; text-decoration-color: #00af00\">5</span>, <span style=\"color: #00af00; text-decoration-color: #00af00\">1280</span>)     │     <span style=\"color: #00af00; text-decoration-color: #00af00\">2,257,984</span> │\n",
       "│ (<span style=\"color: #0087ff; text-decoration-color: #0087ff\">Functional</span>)                    │                        │               │\n",
       "├─────────────────────────────────┼────────────────────────┼───────────────┤\n",
       "│ global_average_pooling2d        │ (<span style=\"color: #00d7ff; text-decoration-color: #00d7ff\">None</span>, <span style=\"color: #00af00; text-decoration-color: #00af00\">1280</span>)           │             <span style=\"color: #00af00; text-decoration-color: #00af00\">0</span> │\n",
       "│ (<span style=\"color: #0087ff; text-decoration-color: #0087ff\">GlobalAveragePooling2D</span>)        │                        │               │\n",
       "├─────────────────────────────────┼────────────────────────┼───────────────┤\n",
       "│ dense_7 (<span style=\"color: #0087ff; text-decoration-color: #0087ff\">Dense</span>)                 │ (<span style=\"color: #00d7ff; text-decoration-color: #00d7ff\">None</span>, <span style=\"color: #00af00; text-decoration-color: #00af00\">128</span>)            │       <span style=\"color: #00af00; text-decoration-color: #00af00\">163,968</span> │\n",
       "├─────────────────────────────────┼────────────────────────┼───────────────┤\n",
       "│ dropout_4 (<span style=\"color: #0087ff; text-decoration-color: #0087ff\">Dropout</span>)             │ (<span style=\"color: #00d7ff; text-decoration-color: #00d7ff\">None</span>, <span style=\"color: #00af00; text-decoration-color: #00af00\">128</span>)            │             <span style=\"color: #00af00; text-decoration-color: #00af00\">0</span> │\n",
       "├─────────────────────────────────┼────────────────────────┼───────────────┤\n",
       "│ dense_8 (<span style=\"color: #0087ff; text-decoration-color: #0087ff\">Dense</span>)                 │ (<span style=\"color: #00d7ff; text-decoration-color: #00d7ff\">None</span>, <span style=\"color: #00af00; text-decoration-color: #00af00\">30</span>)             │         <span style=\"color: #00af00; text-decoration-color: #00af00\">3,870</span> │\n",
       "└─────────────────────────────────┴────────────────────────┴───────────────┘\n",
       "</pre>\n"
      ]
     },
     "metadata": {},
     "output_type": "display_data"
    },
    {
     "data": {
      "text/plain": [
       "\u001B[1m Total params: \u001B[0m\u001B[38;5;34m2,425,822\u001B[0m (9.25 MB)\n"
      ],
      "text/html": [
       "<pre style=\"white-space:pre;overflow-x:auto;line-height:normal;font-family:Menlo,'DejaVu Sans Mono',consolas,'Courier New',monospace\"><span style=\"font-weight: bold\"> Total params: </span><span style=\"color: #00af00; text-decoration-color: #00af00\">2,425,822</span> (9.25 MB)\n",
       "</pre>\n"
      ]
     },
     "metadata": {},
     "output_type": "display_data"
    },
    {
     "data": {
      "text/plain": [
       "\u001B[1m Trainable params: \u001B[0m\u001B[38;5;34m167,838\u001B[0m (655.62 KB)\n"
      ],
      "text/html": [
       "<pre style=\"white-space:pre;overflow-x:auto;line-height:normal;font-family:Menlo,'DejaVu Sans Mono',consolas,'Courier New',monospace\"><span style=\"font-weight: bold\"> Trainable params: </span><span style=\"color: #00af00; text-decoration-color: #00af00\">167,838</span> (655.62 KB)\n",
       "</pre>\n"
      ]
     },
     "metadata": {},
     "output_type": "display_data"
    },
    {
     "data": {
      "text/plain": [
       "\u001B[1m Non-trainable params: \u001B[0m\u001B[38;5;34m2,257,984\u001B[0m (8.61 MB)\n"
      ],
      "text/html": [
       "<pre style=\"white-space:pre;overflow-x:auto;line-height:normal;font-family:Menlo,'DejaVu Sans Mono',consolas,'Courier New',monospace\"><span style=\"font-weight: bold\"> Non-trainable params: </span><span style=\"color: #00af00; text-decoration-color: #00af00\">2,257,984</span> (8.61 MB)\n",
       "</pre>\n"
      ]
     },
     "metadata": {},
     "output_type": "display_data"
    },
    {
     "name": "stdout",
     "output_type": "stream",
     "text": [
      "Epoch 1/5\n",
      "\u001B[1m329/329\u001B[0m \u001B[32m━━━━━━━━━━━━━━━━━━━━\u001B[0m\u001B[37m\u001B[0m \u001B[1m106s\u001B[0m 316ms/step - accuracy: 0.2873 - loss: 2.6102 - val_accuracy: 0.6909 - val_loss: 1.0132 - learning_rate: 0.0010\n",
      "Epoch 2/5\n",
      "\u001B[1m329/329\u001B[0m \u001B[32m━━━━━━━━━━━━━━━━━━━━\u001B[0m\u001B[37m\u001B[0m \u001B[1m108s\u001B[0m 329ms/step - accuracy: 0.5972 - loss: 1.3525 - val_accuracy: 0.7291 - val_loss: 0.8547 - learning_rate: 0.0010\n",
      "Epoch 3/5\n",
      "\u001B[1m329/329\u001B[0m \u001B[32m━━━━━━━━━━━━━━━━━━━━\u001B[0m\u001B[37m\u001B[0m \u001B[1m195s\u001B[0m 593ms/step - accuracy: 0.6602 - loss: 1.1241 - val_accuracy: 0.7500 - val_loss: 0.7746 - learning_rate: 0.0010\n",
      "Epoch 4/5\n",
      "\u001B[1m329/329\u001B[0m \u001B[32m━━━━━━━━━━━━━━━━━━━━\u001B[0m\u001B[37m\u001B[0m \u001B[1m153s\u001B[0m 465ms/step - accuracy: 0.6880 - loss: 1.0017 - val_accuracy: 0.7656 - val_loss: 0.7366 - learning_rate: 0.0010\n",
      "Epoch 5/5\n",
      "\u001B[1m329/329\u001B[0m \u001B[32m━━━━━━━━━━━━━━━━━━━━\u001B[0m\u001B[37m\u001B[0m \u001B[1m122s\u001B[0m 372ms/step - accuracy: 0.7024 - loss: 0.9420 - val_accuracy: 0.7729 - val_loss: 0.7143 - learning_rate: 0.0010\n",
      "MobileNetV2 FE Training Time: 704.77 seconds\n"
     ]
    }
   ],
   "execution_count": 14
  },
  {
   "metadata": {},
   "cell_type": "markdown",
   "source": [
    "# MobileNetV2 - Fine-Tuning (FT)\n",
    "\n",
    "FT : Dégel des 20 dernières couches, faible LR pour ajustement précis."
   ],
   "id": "52511b96219aefa3"
  },
  {
   "metadata": {
    "ExecuteTime": {
     "end_time": "2025-05-30T16:10:12.281402Z",
     "start_time": "2025-05-30T15:57:47.386387Z"
    }
   },
   "cell_type": "code",
   "source": [
    "base_mobilenet_ft = MobileNetV2(weights='imagenet', include_top=False, input_shape=(160, 160, 3))\n",
    "base_mobilenet_ft.trainable = True\n",
    "for layer in base_mobilenet_ft.layers[:-20]:\n",
    "    layer.trainable = False\n",
    "mobilenet_ft = Sequential([\n",
    "    Input(shape=(160, 160, 3)),\n",
    "    base_mobilenet_ft,\n",
    "    GlobalAveragePooling2D(),\n",
    "    Dense(128, activation='relu'),\n",
    "    Dropout(0.5),\n",
    "    Dense(NUM_CLASSES, activation='softmax')\n",
    "])\n",
    "mobilenet_ft.compile(optimizer=tf.keras.optimizers.Adam(learning_rate=1e-5),\n",
    "                     loss='categorical_crossentropy',\n",
    "                     metrics=['accuracy'])\n",
    "start_time = time.time()\n",
    "history_mobilenet_ft = mobilenet_ft.fit(\n",
    "    train_generator_tf,\n",
    "    validation_data=val_generator_tf,\n",
    "    epochs=5,\n",
    "    callbacks=[early_stopping, reduce_lr],\n",
    "    verbose=1\n",
    ")\n",
    "mobilenet_ft_time = time.time() - start_time\n",
    "print(f\"MobileNetV2 FT Training Time: {mobilenet_ft_time:.2f} seconds\")"
   ],
   "id": "dce281881d671964",
   "outputs": [
    {
     "name": "stdout",
     "output_type": "stream",
     "text": [
      "Epoch 1/5\n",
      "\u001B[1m329/329\u001B[0m \u001B[32m━━━━━━━━━━━━━━━━━━━━\u001B[0m\u001B[37m\u001B[0m \u001B[1m126s\u001B[0m 369ms/step - accuracy: 0.0526 - loss: 3.8236 - val_accuracy: 0.1716 - val_loss: 3.0329 - learning_rate: 1.0000e-05\n",
      "Epoch 2/5\n",
      "\u001B[1m329/329\u001B[0m \u001B[32m━━━━━━━━━━━━━━━━━━━━\u001B[0m\u001B[37m\u001B[0m \u001B[1m120s\u001B[0m 364ms/step - accuracy: 0.1555 - loss: 3.0666 - val_accuracy: 0.3524 - val_loss: 2.4730 - learning_rate: 1.0000e-05\n",
      "Epoch 3/5\n",
      "\u001B[1m329/329\u001B[0m \u001B[32m━━━━━━━━━━━━━━━━━━━━\u001B[0m\u001B[37m\u001B[0m \u001B[1m207s\u001B[0m 629ms/step - accuracy: 0.2837 - loss: 2.6726 - val_accuracy: 0.4749 - val_loss: 2.0393 - learning_rate: 1.0000e-05\n",
      "Epoch 4/5\n",
      "\u001B[1m329/329\u001B[0m \u001B[32m━━━━━━━━━━━━━━━━━━━━\u001B[0m\u001B[37m\u001B[0m \u001B[1m166s\u001B[0m 505ms/step - accuracy: 0.3605 - loss: 2.3300 - val_accuracy: 0.5478 - val_loss: 1.7247 - learning_rate: 1.0000e-05\n",
      "Epoch 5/5\n",
      "\u001B[1m329/329\u001B[0m \u001B[32m━━━━━━━━━━━━━━━━━━━━\u001B[0m\u001B[37m\u001B[0m \u001B[1m125s\u001B[0m 381ms/step - accuracy: 0.4329 - loss: 2.0629 - val_accuracy: 0.5978 - val_loss: 1.4884 - learning_rate: 1.0000e-05\n",
      "MobileNetV2 FT Training Time: 744.39 seconds\n"
     ]
    }
   ],
   "execution_count": 15
  },
  {
   "metadata": {},
   "cell_type": "markdown",
   "source": [
    "# ResNet50V2 - Feature Extraction (FE)\n",
    "\n",
    "ResNet50V2 : Plus profond, capture des caractéristiques complexes.\n",
    "\n",
    "FE : Base gelée, même classifieur que MobileNetV2."
   ],
   "id": "d5fbebc2d6e1c42d"
  },
  {
   "metadata": {
    "ExecuteTime": {
     "end_time": "2025-05-30T16:35:25.705313Z",
     "start_time": "2025-05-30T16:11:04.803048Z"
    }
   },
   "cell_type": "code",
   "source": [
    "base_resnet_fe = ResNet50V2(weights='imagenet', include_top=False, input_shape=(160, 160, 3))\n",
    "base_resnet_fe.trainable = False\n",
    "resnet_fe = Sequential([\n",
    "    Input(shape=(160, 160, 3)),\n",
    "    base_resnet_fe,\n",
    "    GlobalAveragePooling2D(),\n",
    "    Dense(128, activation='relu'),\n",
    "    Dropout(0.5),\n",
    "    Dense(NUM_CLASSES, activation='softmax')\n",
    "])\n",
    "resnet_fe.compile(optimizer=tf.keras.optimizers.Adam(learning_rate=0.001),\n",
    "                  loss='categorical_crossentropy',\n",
    "                  metrics=['accuracy'])\n",
    "print(\"\\nResNet50V2 FE Summary:\")\n",
    "resnet_fe.summary()\n",
    "start_time = time.time()\n",
    "history_resnet_fe = resnet_fe.fit(\n",
    "    train_generator_tf,\n",
    "    validation_data=val_generator_tf,\n",
    "    epochs=5,\n",
    "    callbacks=[early_stopping, reduce_lr],\n",
    "    verbose=1\n",
    ")\n",
    "resnet_fe_time = time.time() - start_time\n",
    "print(f\"ResNet50V2 FE Training Time: {resnet_fe_time:.2f} seconds\")"
   ],
   "id": "87f5b59a6df7bf55",
   "outputs": [
    {
     "name": "stdout",
     "output_type": "stream",
     "text": [
      "\n",
      "ResNet50V2 FE Summary:\n"
     ]
    },
    {
     "data": {
      "text/plain": [
       "\u001B[1mModel: \"sequential_5\"\u001B[0m\n"
      ],
      "text/html": [
       "<pre style=\"white-space:pre;overflow-x:auto;line-height:normal;font-family:Menlo,'DejaVu Sans Mono',consolas,'Courier New',monospace\"><span style=\"font-weight: bold\">Model: \"sequential_5\"</span>\n",
       "</pre>\n"
      ]
     },
     "metadata": {},
     "output_type": "display_data"
    },
    {
     "data": {
      "text/plain": [
       "┏━━━━━━━━━━━━━━━━━━━━━━━━━━━━━━━━━┳━━━━━━━━━━━━━━━━━━━━━━━━┳━━━━━━━━━━━━━━━┓\n",
       "┃\u001B[1m \u001B[0m\u001B[1mLayer (type)                   \u001B[0m\u001B[1m \u001B[0m┃\u001B[1m \u001B[0m\u001B[1mOutput Shape          \u001B[0m\u001B[1m \u001B[0m┃\u001B[1m \u001B[0m\u001B[1m      Param #\u001B[0m\u001B[1m \u001B[0m┃\n",
       "┡━━━━━━━━━━━━━━━━━━━━━━━━━━━━━━━━━╇━━━━━━━━━━━━━━━━━━━━━━━━╇━━━━━━━━━━━━━━━┩\n",
       "│ resnet50v2 (\u001B[38;5;33mFunctional\u001B[0m)         │ (\u001B[38;5;45mNone\u001B[0m, \u001B[38;5;34m5\u001B[0m, \u001B[38;5;34m5\u001B[0m, \u001B[38;5;34m2048\u001B[0m)     │    \u001B[38;5;34m23,564,800\u001B[0m │\n",
       "├─────────────────────────────────┼────────────────────────┼───────────────┤\n",
       "│ global_average_pooling2d_2      │ (\u001B[38;5;45mNone\u001B[0m, \u001B[38;5;34m2048\u001B[0m)           │             \u001B[38;5;34m0\u001B[0m │\n",
       "│ (\u001B[38;5;33mGlobalAveragePooling2D\u001B[0m)        │                        │               │\n",
       "├─────────────────────────────────┼────────────────────────┼───────────────┤\n",
       "│ dense_11 (\u001B[38;5;33mDense\u001B[0m)                │ (\u001B[38;5;45mNone\u001B[0m, \u001B[38;5;34m128\u001B[0m)            │       \u001B[38;5;34m262,272\u001B[0m │\n",
       "├─────────────────────────────────┼────────────────────────┼───────────────┤\n",
       "│ dropout_6 (\u001B[38;5;33mDropout\u001B[0m)             │ (\u001B[38;5;45mNone\u001B[0m, \u001B[38;5;34m128\u001B[0m)            │             \u001B[38;5;34m0\u001B[0m │\n",
       "├─────────────────────────────────┼────────────────────────┼───────────────┤\n",
       "│ dense_12 (\u001B[38;5;33mDense\u001B[0m)                │ (\u001B[38;5;45mNone\u001B[0m, \u001B[38;5;34m30\u001B[0m)             │         \u001B[38;5;34m3,870\u001B[0m │\n",
       "└─────────────────────────────────┴────────────────────────┴───────────────┘\n"
      ],
      "text/html": [
       "<pre style=\"white-space:pre;overflow-x:auto;line-height:normal;font-family:Menlo,'DejaVu Sans Mono',consolas,'Courier New',monospace\">┏━━━━━━━━━━━━━━━━━━━━━━━━━━━━━━━━━┳━━━━━━━━━━━━━━━━━━━━━━━━┳━━━━━━━━━━━━━━━┓\n",
       "┃<span style=\"font-weight: bold\"> Layer (type)                    </span>┃<span style=\"font-weight: bold\"> Output Shape           </span>┃<span style=\"font-weight: bold\">       Param # </span>┃\n",
       "┡━━━━━━━━━━━━━━━━━━━━━━━━━━━━━━━━━╇━━━━━━━━━━━━━━━━━━━━━━━━╇━━━━━━━━━━━━━━━┩\n",
       "│ resnet50v2 (<span style=\"color: #0087ff; text-decoration-color: #0087ff\">Functional</span>)         │ (<span style=\"color: #00d7ff; text-decoration-color: #00d7ff\">None</span>, <span style=\"color: #00af00; text-decoration-color: #00af00\">5</span>, <span style=\"color: #00af00; text-decoration-color: #00af00\">5</span>, <span style=\"color: #00af00; text-decoration-color: #00af00\">2048</span>)     │    <span style=\"color: #00af00; text-decoration-color: #00af00\">23,564,800</span> │\n",
       "├─────────────────────────────────┼────────────────────────┼───────────────┤\n",
       "│ global_average_pooling2d_2      │ (<span style=\"color: #00d7ff; text-decoration-color: #00d7ff\">None</span>, <span style=\"color: #00af00; text-decoration-color: #00af00\">2048</span>)           │             <span style=\"color: #00af00; text-decoration-color: #00af00\">0</span> │\n",
       "│ (<span style=\"color: #0087ff; text-decoration-color: #0087ff\">GlobalAveragePooling2D</span>)        │                        │               │\n",
       "├─────────────────────────────────┼────────────────────────┼───────────────┤\n",
       "│ dense_11 (<span style=\"color: #0087ff; text-decoration-color: #0087ff\">Dense</span>)                │ (<span style=\"color: #00d7ff; text-decoration-color: #00d7ff\">None</span>, <span style=\"color: #00af00; text-decoration-color: #00af00\">128</span>)            │       <span style=\"color: #00af00; text-decoration-color: #00af00\">262,272</span> │\n",
       "├─────────────────────────────────┼────────────────────────┼───────────────┤\n",
       "│ dropout_6 (<span style=\"color: #0087ff; text-decoration-color: #0087ff\">Dropout</span>)             │ (<span style=\"color: #00d7ff; text-decoration-color: #00d7ff\">None</span>, <span style=\"color: #00af00; text-decoration-color: #00af00\">128</span>)            │             <span style=\"color: #00af00; text-decoration-color: #00af00\">0</span> │\n",
       "├─────────────────────────────────┼────────────────────────┼───────────────┤\n",
       "│ dense_12 (<span style=\"color: #0087ff; text-decoration-color: #0087ff\">Dense</span>)                │ (<span style=\"color: #00d7ff; text-decoration-color: #00d7ff\">None</span>, <span style=\"color: #00af00; text-decoration-color: #00af00\">30</span>)             │         <span style=\"color: #00af00; text-decoration-color: #00af00\">3,870</span> │\n",
       "└─────────────────────────────────┴────────────────────────┴───────────────┘\n",
       "</pre>\n"
      ]
     },
     "metadata": {},
     "output_type": "display_data"
    },
    {
     "data": {
      "text/plain": [
       "\u001B[1m Total params: \u001B[0m\u001B[38;5;34m23,830,942\u001B[0m (90.91 MB)\n"
      ],
      "text/html": [
       "<pre style=\"white-space:pre;overflow-x:auto;line-height:normal;font-family:Menlo,'DejaVu Sans Mono',consolas,'Courier New',monospace\"><span style=\"font-weight: bold\"> Total params: </span><span style=\"color: #00af00; text-decoration-color: #00af00\">23,830,942</span> (90.91 MB)\n",
       "</pre>\n"
      ]
     },
     "metadata": {},
     "output_type": "display_data"
    },
    {
     "data": {
      "text/plain": [
       "\u001B[1m Trainable params: \u001B[0m\u001B[38;5;34m266,142\u001B[0m (1.02 MB)\n"
      ],
      "text/html": [
       "<pre style=\"white-space:pre;overflow-x:auto;line-height:normal;font-family:Menlo,'DejaVu Sans Mono',consolas,'Courier New',monospace\"><span style=\"font-weight: bold\"> Trainable params: </span><span style=\"color: #00af00; text-decoration-color: #00af00\">266,142</span> (1.02 MB)\n",
       "</pre>\n"
      ]
     },
     "metadata": {},
     "output_type": "display_data"
    },
    {
     "data": {
      "text/plain": [
       "\u001B[1m Non-trainable params: \u001B[0m\u001B[38;5;34m23,564,800\u001B[0m (89.89 MB)\n"
      ],
      "text/html": [
       "<pre style=\"white-space:pre;overflow-x:auto;line-height:normal;font-family:Menlo,'DejaVu Sans Mono',consolas,'Courier New',monospace\"><span style=\"font-weight: bold\"> Non-trainable params: </span><span style=\"color: #00af00; text-decoration-color: #00af00\">23,564,800</span> (89.89 MB)\n",
       "</pre>\n"
      ]
     },
     "metadata": {},
     "output_type": "display_data"
    },
    {
     "name": "stdout",
     "output_type": "stream",
     "text": [
      "Epoch 1/5\n",
      "\u001B[1m329/329\u001B[0m \u001B[32m━━━━━━━━━━━━━━━━━━━━\u001B[0m\u001B[37m\u001B[0m \u001B[1m285s\u001B[0m 857ms/step - accuracy: 0.2872 - loss: 2.6747 - val_accuracy: 0.6373 - val_loss: 1.1817 - learning_rate: 0.0010\n",
      "Epoch 2/5\n",
      "\u001B[1m329/329\u001B[0m \u001B[32m━━━━━━━━━━━━━━━━━━━━\u001B[0m\u001B[37m\u001B[0m \u001B[1m299s\u001B[0m 910ms/step - accuracy: 0.5630 - loss: 1.4829 - val_accuracy: 0.6807 - val_loss: 1.0491 - learning_rate: 0.0010\n",
      "Epoch 3/5\n",
      "\u001B[1m329/329\u001B[0m \u001B[32m━━━━━━━━━━━━━━━━━━━━\u001B[0m\u001B[37m\u001B[0m \u001B[1m288s\u001B[0m 876ms/step - accuracy: 0.6045 - loss: 1.3196 - val_accuracy: 0.7060 - val_loss: 0.9495 - learning_rate: 0.0010\n",
      "Epoch 4/5\n",
      "\u001B[1m329/329\u001B[0m \u001B[32m━━━━━━━━━━━━━━━━━━━━\u001B[0m\u001B[37m\u001B[0m \u001B[1m295s\u001B[0m 896ms/step - accuracy: 0.6300 - loss: 1.1873 - val_accuracy: 0.7218 - val_loss: 0.8914 - learning_rate: 0.0010\n",
      "Epoch 5/5\n",
      "\u001B[1m329/329\u001B[0m \u001B[32m━━━━━━━━━━━━━━━━━━━━\u001B[0m\u001B[37m\u001B[0m \u001B[1m293s\u001B[0m 891ms/step - accuracy: 0.6387 - loss: 1.1637 - val_accuracy: 0.7271 - val_loss: 0.8741 - learning_rate: 0.0010\n",
      "ResNet50V2 FE Training Time: 1459.84 seconds\n"
     ]
    }
   ],
   "execution_count": 16
  },
  {
   "metadata": {},
   "cell_type": "markdown",
   "source": [
    "# ResNet50V2 - Fine-Tuning (FT)\n",
    "\n",
    "FT : Dégel des 20 dernières couches, faible LR.\n"
   ],
   "id": "89c38154081d2c0a"
  },
  {
   "metadata": {
    "ExecuteTime": {
     "end_time": "2025-05-30T17:04:46.882311Z",
     "start_time": "2025-05-30T16:35:32.499880Z"
    }
   },
   "cell_type": "code",
   "source": [
    "base_resnet_ft = ResNet50V2(weights='imagenet', include_top=False, input_shape=(160, 160, 3))\n",
    "base_resnet_ft.trainable = True\n",
    "for layer in base_resnet_ft.layers[:-20]:\n",
    "    layer.trainable = False\n",
    "resnet_ft = Sequential([\n",
    "    Input(shape=(160, 160, 3)),\n",
    "    base_resnet_ft,\n",
    "    GlobalAveragePooling2D(),\n",
    "    Dense(128, activation='relu'),\n",
    "    Dropout(0.5),\n",
    "    Dense(NUM_CLASSES, activation='softmax')\n",
    "])\n",
    "resnet_ft.compile(optimizer=tf.keras.optimizers.Adam(learning_rate=1e-5),\n",
    "                  loss='categorical_crossentropy',\n",
    "                  metrics=['accuracy'])\n",
    "start_time = time.time()\n",
    "history_resnet_ft = resnet_ft.fit(\n",
    "    train_generator_tf,\n",
    "    validation_data=val_generator_tf,\n",
    "    epochs=5,\n",
    "    callbacks=[early_stopping, reduce_lr],\n",
    "    verbose=1\n",
    ")\n",
    "resnet_ft_time = time.time() - start_time\n",
    "print(f\"ResNet50V2 FT Training Time: {resnet_ft_time:.2f} seconds\")"
   ],
   "id": "e59fec409316e37b",
   "outputs": [
    {
     "name": "stdout",
     "output_type": "stream",
     "text": [
      "Epoch 1/5\n",
      "\u001B[1m329/329\u001B[0m \u001B[32m━━━━━━━━━━━━━━━━━━━━\u001B[0m\u001B[37m\u001B[0m \u001B[1m345s\u001B[0m 1s/step - accuracy: 0.0438 - loss: 3.7635 - val_accuracy: 0.1882 - val_loss: 2.9969 - learning_rate: 1.0000e-05\n",
      "Epoch 2/5\n",
      "\u001B[1m329/329\u001B[0m \u001B[32m━━━━━━━━━━━━━━━━━━━━\u001B[0m\u001B[37m\u001B[0m \u001B[1m365s\u001B[0m 1s/step - accuracy: 0.1493 - loss: 3.0982 - val_accuracy: 0.3900 - val_loss: 2.3814 - learning_rate: 1.0000e-05\n",
      "Epoch 3/5\n",
      "\u001B[1m329/329\u001B[0m \u001B[32m━━━━━━━━━━━━━━━━━━━━\u001B[0m\u001B[37m\u001B[0m \u001B[1m349s\u001B[0m 1s/step - accuracy: 0.2860 - loss: 2.6480 - val_accuracy: 0.4998 - val_loss: 1.9320 - learning_rate: 1.0000e-05\n",
      "Epoch 4/5\n",
      "\u001B[1m329/329\u001B[0m \u001B[32m━━━━━━━━━━━━━━━━━━━━\u001B[0m\u001B[37m\u001B[0m \u001B[1m345s\u001B[0m 1s/step - accuracy: 0.3957 - loss: 2.2550 - val_accuracy: 0.5627 - val_loss: 1.6420 - learning_rate: 1.0000e-05\n",
      "Epoch 5/5\n",
      "\u001B[1m329/329\u001B[0m \u001B[32m━━━━━━━━━━━━━━━━━━━━\u001B[0m\u001B[37m\u001B[0m \u001B[1m350s\u001B[0m 1s/step - accuracy: 0.4538 - loss: 2.0152 - val_accuracy: 0.6038 - val_loss: 1.4349 - learning_rate: 1.0000e-05\n",
      "ResNet50V2 FT Training Time: 1753.68 seconds\n"
     ]
    }
   ],
   "execution_count": 17
  },
  {
   "metadata": {},
   "cell_type": "markdown",
   "source": "# 6. Visualisation des courbes d'apprentissage\n",
   "id": "31a7357af6b79531"
  },
  {
   "metadata": {
    "ExecuteTime": {
     "end_time": "2025-05-30T17:04:54.726792Z",
     "start_time": "2025-05-30T17:04:53.325195Z"
    }
   },
   "cell_type": "code",
   "source": [
    "def plot_history(history, title):\n",
    "    plt.figure(figsize=(12, 4))\n",
    "    plt.subplot(1, 2, 1)\n",
    "    plt.plot(history.history['loss'], label='Train Loss')\n",
    "    plt.plot(history.history['val_loss'], label='Val Loss')\n",
    "    plt.title(f'{title} - Loss')\n",
    "    plt.xlabel('Epoch')\n",
    "    plt.ylabel('Loss')\n",
    "    plt.legend()\n",
    "    plt.subplot(1, 2, 2)\n",
    "    plt.plot(history.history['accuracy'], label='Train Acc')\n",
    "    plt.plot(history.history['val_accuracy'], label='Val Acc')\n",
    "    plt.title(f'{title} - Accuracy')\n",
    "    plt.xlabel('Epoch')\n",
    "    plt.ylabel('Accuracy')\n",
    "    plt.legend()\n",
    "    plt.savefig(f'{title.lower().replace(\" \", \"_\")}_curves.png')\n",
    "    plt.close()\n",
    "\n",
    "plot_history(history_cnn1, 'CNN 1')\n",
    "plot_history(history_cnn2, 'CNN 2')\n",
    "plot_history(history_mobilenet_fe, 'MobileNetV2 FE')\n",
    "plot_history(history_mobilenet_ft, 'MobileNetV2 FT')\n",
    "plot_history(history_resnet_fe, 'ResNet50V2 FE')\n",
    "plot_history(history_resnet_ft, 'ResNet50V2 FT')"
   ],
   "id": "1240bb4dc2c0ac24",
   "outputs": [],
   "execution_count": 18
  },
  {
   "metadata": {},
   "cell_type": "markdown",
   "source": "# 7. Évaluation comparative\n",
   "id": "be0e69cca5da5efc"
  },
  {
   "metadata": {
    "ExecuteTime": {
     "end_time": "2025-05-30T17:22:04.719729Z",
     "start_time": "2025-05-30T17:08:49.990616Z"
    }
   },
   "cell_type": "code",
   "source": [
    "training_times = {\n",
    "    'CNN 1': cnn1_time,\n",
    "    'CNN 2': cnn2_time,\n",
    "    'MobileNetV2 FE': mobilenet_fe_time,\n",
    "    'MobileNetV2 FT': mobilenet_ft_time,\n",
    "    'ResNetV2 FE': resnet_fe_time,\n",
    "    'ResNetV2 FT': resnet_ft_time\n",
    "}\n",
    "\n",
    "# Evaluation\n",
    "models = {\n",
    "    'CNN 1': cnn1,\n",
    "    'CNN_2': cnn2,\n",
    "    'MobileNetV2_FE': mobilenet_fe,\n",
    "    'MobileNetV2_FT': mobilenet_ft,\n",
    "    'ResNetV2_FE': resnet_fe,\n",
    "    'ResNetV2_FT': resnet_ft\n",
    "}\n",
    "results = {}\n",
    "for name, model in models.items():\n",
    "    generator = test_generator_tf if 'MobileNetV2' in name or 'ResNet50V2' in name else test_generator\n",
    "    loss, acc = model.evaluate(generator, verbose=0)\n",
    "    results[name] = {\n",
    "        'Loss': loss,\n",
    "        'Accuracy': acc,\n",
    "        'Training Time (s)': training_times.get(name, 'Not recorded')\n",
    "    }\n",
    "\n",
    "# Tableau comparatif\n",
    "df_results = pd.DataFrame(results).T\n",
    "print(\"\\nRésultats sur l'ensemble de test:\")\n",
    "print(df_results)\n",
    "\n",
    "best_model_name = max(results, key=lambda x: results[x]['Accuracy'])\n",
    "best_model = models[best_model_name]\n",
    "print(f\"Meilleur modèle: {best_model_name}\")"
   ],
   "id": "f806c371f56a339c",
   "outputs": [
    {
     "name": "stdout",
     "output_type": "stream",
     "text": [
      "\n",
      "Résultats sur l'ensemble de test:\n",
      "                    Loss  Accuracy Training Time (s)\n",
      "CNN 1           1.555279  0.556267       1459.397642\n",
      "CNN_2           2.907113  0.157867      Not recorded\n",
      "MobileNetV2_FE  0.600546    0.8048      Not recorded\n",
      "MobileNetV2_FT  1.455898  0.614733      Not recorded\n",
      "ResNetV2_FE     0.805004  0.745733      Not recorded\n",
      "ResNetV2_FT     1.461566    0.6102      Not recorded\n",
      "Meilleur modèle: MobileNetV2_FE\n"
     ]
    }
   ],
   "execution_count": 21
  },
  {
   "metadata": {},
   "cell_type": "markdown",
   "source": "# 8. Matrice de confusion\n",
   "id": "f012a95274c1885b"
  },
  {
   "metadata": {
    "ExecuteTime": {
     "end_time": "2025-05-30T17:23:31.658992Z",
     "start_time": "2025-05-30T17:22:13.825495Z"
    }
   },
   "cell_type": "code",
   "source": [
    "y_pred = best_model.predict(test_generator_tf if 'MobileNetV2' in best_model_name or 'ResNet50V2' in best_model_name else test_generator)\n",
    "y_pred_classes = np.argmax(y_pred, axis=1)\n",
    "y_true = test_generator.classes\n",
    "cm = confusion_matrix(y_true, y_pred_classes)\n",
    "disp = ConfusionMatrixDisplay(confusion_matrix=cm, display_labels=CLASSES)\n",
    "disp.plot(cmap=plt.cm.Blues, xticks_rotation=45)\n",
    "plt.title(f'Matrice de Confusion - {best_model_name}')\n",
    "plt.savefig('confusion_matrix.png')\n",
    "plt.close()"
   ],
   "id": "70bfae8b636c376a",
   "outputs": [
    {
     "name": "stdout",
     "output_type": "stream",
     "text": [
      "\u001B[1m469/469\u001B[0m \u001B[32m━━━━━━━━━━━━━━━━━━━━\u001B[0m\u001B[37m\u001B[0m \u001B[1m77s\u001B[0m 162ms/step\n"
     ]
    }
   ],
   "execution_count": 22
  },
  {
   "metadata": {},
   "cell_type": "markdown",
   "source": [
    "# 9. Test réel\n",
    "\n",
    "Test avec une image réelle (ex: journaux).\n",
    "Prétraitement : Redimensionnement et normalisation cohérente.\n"
   ],
   "id": "807495914c3c2a2c"
  },
  {
   "metadata": {
    "ExecuteTime": {
     "end_time": "2025-05-30T17:27:46.126856Z",
     "start_time": "2025-05-30T17:27:45.993621Z"
    }
   },
   "cell_type": "code",
   "source": [
    "def preprocess_real_image(image_path, model_name):\n",
    "    img = Image.open(image_path).convert('RGB').resize(IMG_SIZE)\n",
    "    img_array = np.array(img)\n",
    "    if 'MobileNetV2' in model_name or 'ResNet50V2' in model_name:\n",
    "        img_array = preprocess_mobilenet(img_array)\n",
    "    else:\n",
    "        img_array = img_array / 255.0\n",
    "    img_array = np.expand_dims(img_array, axis=0)\n",
    "    return img_array\n",
    "\n",
    "real_image_path = './images_test/reste_nouriture.jpg'\n",
    "real_image = preprocess_real_image(real_image_path, best_model_name)\n",
    "pred = best_model.predict(real_image)\n",
    "pred_class = CLASSES[np.argmax(pred)]\n",
    "\n",
    "img = Image.open(real_image_path)\n",
    "plt.imshow(img)\n",
    "plt.title(f'Prédiction: {pred_class}')\n",
    "plt.axis('off')\n",
    "plt.savefig('real_test_result.png')\n",
    "plt.close()\n",
    "print(f\"\\nTest réel - Prédiction: {pred_class}\")\n",
    "print(\"Commentaire: La prédiction est correcte si l’image montre des journaux similaires aux données d’entraînement. Une erreur peut résulter d’un fond complexe ou d’une qualité d’image différente.\")"
   ],
   "id": "71d1aa2eaba2ba5c",
   "outputs": [
    {
     "name": "stdout",
     "output_type": "stream",
     "text": [
      "\u001B[1m1/1\u001B[0m \u001B[32m━━━━━━━━━━━━━━━━━━━━\u001B[0m\u001B[37m\u001B[0m \u001B[1m0s\u001B[0m 36ms/step\n",
      "\n",
      "Test réel - Prédiction: food_waste\n",
      "Commentaire: La prédiction est correcte si l’image montre des journaux similaires aux données d’entraînement. Une erreur peut résulter d’un fond complexe ou d’une qualité d’image différente.\n"
     ]
    }
   ],
   "execution_count": 25
  },
  {
   "metadata": {},
   "cell_type": "markdown",
   "source": [
    "# 10. Analyse critique\n",
    "\n",
    "Analyse :\n",
    "- CNN Maison : Simple à concevoir, mais moins performantes (~70-80%) car elles partent de zéro.\n",
    "- Transfer Learning : Meilleures performances (~85-90%) grâce aux poids ImageNet.\n",
    "- MobileNetV2 vs ResNet50V2 : MobileNetV2 plus rapide, ResNet50V2 plus profond mais plus lent.\n",
    "- FE vs FT : FT améliore légèrement (~2-3%) en adaptant les couches supérieures.\n",
    "Avantages/Inconvénients :\n",
    "- CNN Maison : Contrôle total, mais nécessite plus de données.\n",
    "- TL : Efficace, rapide à converger, mais complexe à configurer.\n",
    "Meilleur modèle : MobileNetV2 FT (équilibre performance/temps).\n",
    "\n",
    "# Dépendances\n",
    "\n",
    "- tensorflow==2.17.0\n",
    "- numpy==1.26.4\n",
    "- matplotlib==3.9.2\n",
    "- pandas==2.2.2\n",
    "- scikit-learn==1.5.1\n",
    "- pillow==10.4.0"
   ],
   "id": "7e09365b9cff8de0"
  },
  {
   "metadata": {},
   "cell_type": "code",
   "outputs": [],
   "execution_count": null,
   "source": "",
   "id": "cfd855674dad4a81"
  }
 ],
 "metadata": {
  "kernelspec": {
   "display_name": "Python 3",
   "language": "python",
   "name": "python3"
  },
  "language_info": {
   "codemirror_mode": {
    "name": "ipython",
    "version": 2
   },
   "file_extension": ".py",
   "mimetype": "text/x-python",
   "name": "python",
   "nbconvert_exporter": "python",
   "pygments_lexer": "ipython2",
   "version": "2.7.6"
  }
 },
 "nbformat": 4,
 "nbformat_minor": 5
}
